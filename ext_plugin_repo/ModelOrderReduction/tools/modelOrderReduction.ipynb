{
 "cells": [
  {
   "cell_type": "markdown",
   "metadata": {},
   "source": [
    "# Model Order Reduction Example\n",
    "\n",
    "\n",
    "The Jupyter Notebook is a web-based interactive computing system that enables users to author documents that include live code, narrative text, LaTeX equations, HTML, images and video.\n",
    "\n",
    "**How to use it :**\n",
    "\n",
    "- to navigate between cell use your keyboard ***up*** or ***down***\n",
    "\n",
    "- to execute a cell press ***crtl*+*enter***\n",
    "\n",
    "- to edit a cell just press ***enter***\n",
    "\n",
    "- to restart and clear all the output of the executed cells go in ***kernel -> Restart & Clear Output***\n",
    "\n",
    "*little test :*\n",
    "\n",
    "when your are on this cell (indicated by a blue cursor) if you press *enter* you will see the *raw* document, you can add text ect... then press *ctrl*+*enter* and you will see your modification will be take into account. \n",
    "\n",
    "for more information you can go [here](http://nbviewer.jupyter.org/github/ipython/ipython/blob/3.x/examples/Notebook/Index.ipynb)\n",
    "\n",
    "## Introduction <a name=\"introduction\"></a>\n",
    "***\n",
    "\n",
    "In this python notebook exemple we will see with 2 real examples how to reduce a model from one of your sofa scene thanks to the **Model Order Reduction** plugin done by the INRIA research team **[Defrost](https://team.inria.fr/defrost/)**.\n",
    "\n",
    "The two examples will be :\n",
    "\n",
    "- **[A cable-driven silicone robot](https://modelorderreduction.readthedocs.io/en/latest/usage/examples/Diamond/diamond.html)** (*paper link : [C. Duriez, ICRA, 2013](https://hal.archives-ouvertes.fr/hal-00823766/document)*).\n",
    "\n",
    "- **[A pneumatic Soft Robot](https://modelorderreduction.readthedocs.io/en/latest/usage/examples/Starfish/starfish.html)** (*paper link : Multigait soft Robot [R.F. Shepherd et al, PNAS, 2011](http://www.pnas.org/content/108/51/20400)*).\n",
    "\n",
    "To perform the reduction, a certain number of parameters have to be set. In the following exampl we will present them and explain their purpose. Each example has its own set of parameter values and you will be able to switch easily between each example. "
   ]
  },
  {
   "cell_type": "markdown",
   "metadata": {},
   "source": [
    "## User Parameters <a name=\"User Paramters\"></a> \n",
    "***\n",
    "\n",
    "Before defining the reduction parameters, here are some \"import\" commands that will be useful for this python notebook:"
   ]
  },
  {
   "cell_type": "code",
   "execution_count": 1,
   "metadata": {
    "code_folding": [],
    "scrolled": true
   },
   "outputs": [],
   "source": [
    "# Import\n",
    "import os\n",
    "import sys\n",
    "\n",
    "sys.path.append(os.getcwd()+'/../python')\n",
    "\n",
    "# MOR IMPORT\n",
    "#from mor.gui import utility\n",
    "from mor.reduction import ReduceModel\n",
    "from mor.reduction.container import ObjToAnimate"
   ]
  },
  {
   "cell_type": "markdown",
   "metadata": {},
   "source": [
    "### 1.  Paths to the SOFA scene, mesh and outputs: <a name=\"Important Path\"></a> \n",
    " - The scene you want to work on\n",
    " - The folder containing its mesh\n",
    " - The folder where you want the results to be put in"
   ]
  },
  {
   "cell_type": "code",
   "execution_count": 2,
   "metadata": {
    "code_folding": []
   },
   "outputs": [],
   "source": [
    "# Important path\n",
    "#from PyQt5 import QtCore, QtGui\n",
    "#from PyQt5.QtWidgets import (QMainWindow, QTextEdit, QAction, QFileDialog, QApplication)\n",
    "#from PyQt5.QtGui import QIcon\n",
    "#app = QApplication(sys.argv)\n",
    "\n",
    "#originalScene = utility.openFileName('Select the SOFA scene you want to reduce')\n",
    "#meshDir = utility.openDirName('Select the directory containing the mesh of your scene')\n",
    "#outputDir = utility.openDirName('Select the directory tha will contain all the results')\n",
    "\n",
    "originalScene = '/home/owen/Softwares/ext_plugin_repo/ModelOrderReduction/tools/sofa_test_scene'\n",
    "#meshDir = utility.openDirName('Select the directory containing the mesh of your scene')\n",
    "outputDir = '/home/owen/Softwares/ext_plugin_repo/SoftRobots/Simulation/Ex3_MOR/MOR_Results'\n",
    "# if you haven't install PyQt the previous function won't work\n",
    "# As an alternative you can enter the absolute path to the conresponding files directly:\n",
    "# originalScene = /PathToMy/Original/Scene"
   ]
  },
  {
   "cell_type": "markdown",
   "metadata": {},
   "source": [
    "### 2.  The different reduction parameters <a name=\"Reduction Parameters\"></a>\n",
    "\n",
    "#### nodeToReduce <a name=\"nodesToReduce\"></a>\n",
    "- *ie : containing the SOFA path from the rootnode to the model you want to reduce\n",
    "        "
   ]
  },
  {
   "cell_type": "code",
   "execution_count": 3,
   "metadata": {},
   "outputs": [],
   "source": [
    "nodeToReduce = '/pneu'\n",
    "#nodeToReduce_STARFISH ='/model'"
   ]
  },
  {
   "cell_type": "markdown",
   "metadata": {},
   "source": [
    "#### listObjToAnimate <a name=\"listObjToAnimate\"></a>\n",
    "   \n",
    "Contain a list of object from the class [ObjToAnimate](https://modelorderreduction.readthedocs.io/en/latest/_autosummary/_autosummary/_autosummary/mor.reduction.reduceModel.ObjToAnimate.html).\n",
    "        \n",
    "A ObjToAnimate will define an object to \"animate\" during the shaking.\n",
    "\n",
    "There are 3 main parameter to this object :\n",
    "- location : Path to obj/node we want to animate\n",
    "- animFct : the animation function we will use (here we use [defaultShaking](https://modelorderreduction.readthedocs.io/en/latest/_autosummary/_autosummary/mor.animation.defaultShaking.html))\n",
    "- all the argument that will be passed to the animFct we have chose\n",
    "        \n",
    "For example here we want to animate the node named \"nord\", but we won't specify the animFct so the default animation function will be used and be applied on the first default object it will find. The default function will need 3 additionnal parameters :\n",
    "- incrPeriod (float):\tPeriod between each increment\n",
    "- incr (float):    Value of each increment\n",
    "- rangeOfAction (float):\tUntil which value the data will increase\n",
    "            \n",
    "nord = ObjToAnimate(\"nord\", incr=5,incrPeriod=10,rangeOfAction=40)"
   ]
  },
  {
   "cell_type": "code",
   "execution_count": 4,
   "metadata": {
    "code_folding": [],
    "scrolled": true
   },
   "outputs": [],
   "source": [
    "# animation parameters\n",
    "\n",
    "### CABLE-DRIVEN PARALLEL ROBOT PARAMETERS\n",
    "#nord = ObjToAnimate(\"modelNode/nord\", incr=5,incrPeriod=10,rangeOfAction=40)\n",
    "#sud = ObjToAnimate(\"modelNode/sud\", incr=5,incrPeriod=10,rangeOfAction=40)\n",
    "#est = ObjToAnimate(\"modelNode/est\", incr=5,incrPeriod=10,rangeOfAction=40)\n",
    "#ouest = ObjToAnimate(\"modelNode/ouest\", incr=5,incrPeriod=10,rangeOfAction=40)\n",
    "#listObjToAnimate_DIAMOND = [nord,ouest,sud,est]\n",
    "\n",
    "### MULTIGAIT SOFT ROBOT PARAMETERS\n",
    "Cavity = ObjToAnimate(\"pneu/cavity\", incr=0.01,incrPeriod=4,rangeOfAction=0.05)\n",
    "#rearLeftCavity = ObjToAnimate(\"model/rearLeftCavity\", incr=200,incrPeriod=2,rangeOfAction=2000)\n",
    "#rearRightCavity = ObjToAnimate(\"model/rearRightCavity\", incr=200,incrPeriod=2,rangeOfAction=2000)\n",
    "#frontLeftCavity = ObjToAnimate(\"model/frontLeftCavity\", incr=200,incrPeriod=2,rangeOfAction=2000)\n",
    "#frontRightCavity = ObjToAnimate(\"model/frontRightCavity\", incr=200,incrPeriod=2,rangeOfAction=2000)\n",
    "listObjToAnimate = [Cavity]"
   ]
  },
  {
   "cell_type": "markdown",
   "metadata": {},
   "source": [
    "#### Modes parameters <a name=\"Modes parameters\"></a>\n",
    "\n",
    "- addRigidBodyModes (Defines if our reduce model will be able to translate along the x, y , z directions)\n",
    "- tolModes ( Defines the level of accuracy we want to select the reduced basis modes)  "
   ]
  },
  {
   "cell_type": "code",
   "execution_count": 5,
   "metadata": {},
   "outputs": [],
   "source": [
    "addRigidBodyModes = [0,0,0]\n",
    "\n",
    "tolModes = 0.05"
   ]
  },
  {
   "cell_type": "markdown",
   "metadata": {},
   "source": [
    "- tolGIE\n",
    "    - *tolerance used in the greedy algorithm selecting the reduced integration domain(RID). Values are between 0 and 0.1 . High values will lead to RIDs with very few elements, while values approaching 0 will lead to large RIDs.  Typically set to 0.05.* "
   ]
  },
  {
   "cell_type": "code",
   "execution_count": 6,
   "metadata": {},
   "outputs": [],
   "source": [
    "# Tolerance\n",
    "tolGIE =  0.05"
   ]
  },
  {
   "cell_type": "markdown",
   "metadata": {},
   "source": [
    "### 3. Optional parameters <a name=\"Optionnal Parameters\"></a>"
   ]
  },
  {
   "cell_type": "code",
   "execution_count": 7,
   "metadata": {},
   "outputs": [],
   "source": [
    "# Optionnal\n",
    "verbose = True\n",
    "nbrCPU = 4\n",
    "packageName = 'test'\n",
    "addToLib = False"
   ]
  },
  {
   "cell_type": "markdown",
   "metadata": {},
   "source": [
    "We can now execute one of the reduction we choose with all these parameters"
   ]
  },
  {
   "cell_type": "markdown",
   "metadata": {},
   "source": [
    "## Execution <a name=\"Execution\"></a>\n",
    "***\n"
   ]
  },
  {
   "cell_type": "markdown",
   "metadata": {},
   "source": [
    "### Initialization\n",
    "\n",
    "The execution is done with an object from the class *[ReduceModel](https://modelorderreduction.readthedocs.io/en/latest/_autosummary/_autosummary/_autosummary/mor.reduction.reduceModel.ReduceModel.html#mor.reduction.reduceModel.ReduceModel)*.\n",
    "we initialize it with all the previous argument either for the Diamond or Starfish example"
   ]
  },
  {
   "cell_type": "code",
   "execution_count": 8,
   "metadata": {
    "code_folding": []
   },
   "outputs": [
    {
     "name": "stdout",
     "output_type": "stream",
     "text": [
      "periodSaveGIE : 6 | nbTrainingSet : 5 | nbIterations : 23\n",
      "##################################################\n"
     ]
    }
   ],
   "source": [
    "# Initialization of our script\n",
    "#nodeToReduce = nodeToReduce_DIAMOND # nodeToReduce_STARFISH\n",
    "#listObjToAnimate = listObjToAnimate_DIAMOND # listObjToAnimate_STARFISH\n",
    "#addRigidBodyModes = addRigidBodyModes_DIAMOND # addRigidBodyModes_STARFISH\n",
    "\n",
    "reduceMyModel = ReduceModel(    originalScene,  \n",
    "                                nodeToReduce,\n",
    "                                listObjToAnimate,\n",
    "                                tolModes,tolGIE,\n",
    "                                outputDir,\n",
    "                                packageName = packageName,\n",
    "                                addToLib = addToLib,\n",
    "                                verbose = verbose,\n",
    "                                addRigidBodyModes = addRigidBodyModes)"
   ]
  },
  {
   "cell_type": "markdown",
   "metadata": {},
   "source": [
    "We can finally perform the actual reduction. here is a schematic to resume the differents steps we will perform : \n",
    "\n",
    "![MOR Process Schematic](../doc/images/MOR_plugin_execution_v2.png \"MOR Process Schematic\")\n",
    "\n",
    "### Phase 1 <a name=\"Phase 1\"></a> \n",
    "*[doc](https://modelorderreduction.readthedocs.io/en/latest/_autosummary/_autosummary/_autosummary/mor.reduction.reduceModel.ReduceModel.html#mor.reduction.reduceModel.ReduceModel.phase1)*\n",
    "\n",
    "We modify the original scene to do the first step of MOR :   \n",
    "- We add animation to each actuators we want for our model \n",
    "- And add a writeState componant to save the shaking resulting states  "
   ]
  },
  {
   "cell_type": "code",
   "execution_count": null,
   "metadata": {},
   "outputs": [
    {
     "name": "stdout",
     "output_type": "stream",
     "text": [
      "[140307570263808] processing threaded sofa task in: /tmp/sofa-launcher-uzpheq1n/phase1_snapshots.py[140307561871104] processing threaded sofa task in: /tmp/sofa-launcher-vferpl7f/phase1_snapshots.py\n",
      "\n"
     ]
    },
    {
     "name": "stderr",
     "output_type": "stream",
     "text": [
      "Exception in thread Thread-5:\n",
      "Traceback (most recent call last):\n",
      "  File \"/usr/lib/python3.8/threading.py\", line 932, in _bootstrap_inner\n",
      "    self.run()\n",
      "  File \"/usr/lib/python3.8/threading.py\", line 870, in run\n",
      "    self._target(*self._args, **self._kwargs)\n",
      "  File \"/home/owen/Softwares/sofa/src/tools/sofa-launcher/launcher.py\", line 84, in worker\n",
      "    astdout, astderr = a.communicate()\n",
      "  File \"/usr/lib/python3.8/subprocess.py\", line 1024, in communicate\n",
      "    stdout, stderr = self._communicate(input, endtime, timeout)\n",
      "  File \"/usr/lib/python3.8/subprocess.py\", line 1908, in _communicate\n",
      "    stderr = self._translate_newlines(stderr,\n",
      "  File \"/usr/lib/python3.8/subprocess.py\", line 901, in _translate_newlines\n",
      "    data = data.decode(encoding, errors)\n",
      "UnicodeDecodeError: 'utf-8' codec can't decode byte 0x9a in position 807: invalid start byte\n",
      "Exception in thread Thread-4:\n",
      "Traceback (most recent call last):\n",
      "  File \"/usr/lib/python3.8/threading.py\", line 932, in _bootstrap_inner\n",
      "    self.run()\n",
      "  File \"/usr/lib/python3.8/threading.py\", line 870, in run\n",
      "    self._target(*self._args, **self._kwargs)\n",
      "  File \"/home/owen/Softwares/sofa/src/tools/sofa-launcher/launcher.py\", line 84, in worker\n",
      "    astdout, astderr = a.communicate()\n",
      "  File \"/usr/lib/python3.8/subprocess.py\", line 1024, in communicate\n",
      "    stdout, stderr = self._communicate(input, endtime, timeout)\n",
      "  File \"/usr/lib/python3.8/subprocess.py\", line 1908, in _communicate\n",
      "    stderr = self._translate_newlines(stderr,\n",
      "  File \"/usr/lib/python3.8/subprocess.py\", line 901, in _translate_newlines\n",
      "    data = data.decode(encoding, errors)\n",
      "UnicodeDecodeError: 'utf-8' codec can't decode byte 0x9a in position 807: invalid start byte\n"
     ]
    }
   ],
   "source": [
    "reduceMyModel.phase1()"
   ]
  },
  {
   "cell_type": "markdown",
   "metadata": {},
   "source": [
    "### Phase 2 <a name=\"Phase 2\"></a>\n",
    "\n",
    "*[doc](https://modelorderreduction.readthedocs.io/en/latest/_autosummary/_autosummary/_autosummary/mor.reduction.reduceModel.ReduceModel.html#mor.reduction.reduceModel.ReduceModel.phase2)*\n",
    "\n",
    "With the previous result we combine all the generated state files into one to be able to extract from it the different mode"
   ]
  },
  {
   "cell_type": "code",
   "execution_count": null,
   "metadata": {
    "scrolled": false
   },
   "outputs": [],
   "source": [
    "reduceMyModel.phase2()"
   ]
  },
  {
   "cell_type": "code",
   "execution_count": null,
   "metadata": {
    "code_folding": [
     0
    ],
    "scrolled": true
   },
   "outputs": [],
   "source": [
    "# Plot result\n",
    "with open(reduceMyModel.packageBuilder.debugDir+'Sdata.txt') as f:\n",
    "    content = f.readlines()\n",
    "    \n",
    "content = [x.strip() for x in content]\n",
    "\n",
    "data = [go.Bar(x=range(1, len(content)+1),\n",
    "            y=content)]\n",
    "\n",
    "iplot(data, filename='jupyter/basic_bar')"
   ]
  },
  {
   "cell_type": "code",
   "execution_count": null,
   "metadata": {},
   "outputs": [],
   "source": [
    "print(\"Maximum number of Modes : \")\n",
    "reduceMyModel.reductionParam.nbrOfModes"
   ]
  },
  {
   "cell_type": "markdown",
   "metadata": {},
   "source": [
    "### Phase 3 <a name=\"Phase 3\"></a>\n",
    "\n",
    "*[doc](https://modelorderreduction.readthedocs.io/en/latest/_autosummary/_autosummary/_autosummary/mor.reduction.reduceModel.ReduceModel.html#mor.reduction.reduceModel.ReduceModel.phase3)*\n",
    "\n",
    "We launch again a set of sofa scene with the sofa launcher with the same previous arguments but with a different scene\n",
    "\n",
    "This scene take the previous one and add the model order reduction component:\n",
    "- HyperReducedFEMForceField\n",
    "- MechanicalMatrixMapperMOR\n",
    "- ModelOrderReductionMapping and produce an Hyper Reduced description of the model"
   ]
  },
  {
   "cell_type": "code",
   "execution_count": null,
   "metadata": {},
   "outputs": [],
   "source": [
    "reduceMyModel.phase3()"
   ]
  },
  {
   "cell_type": "markdown",
   "metadata": {},
   "source": [
    "### Phase 4 <a name=\"Phase 4\"></a>\n",
    "\n",
    "*[doc](https://modelorderreduction.readthedocs.io/en/latest/_autosummary/_autosummary/_autosummary/mor.reduction.reduceModel.ReduceModel.html#mor.reduction.reduceModel.ReduceModel.phase4)*\n",
    "\n",
    "Final step : we gather again all the results of the previous scenes into one and then compute the RID and Weigts with it. Additionnally we also compute the Active Nodes\n"
   ]
  },
  {
   "cell_type": "code",
   "execution_count": null,
   "metadata": {
    "scrolled": true
   },
   "outputs": [],
   "source": [
    "reducedScene = reduceMyModel.phase4()"
   ]
  },
  {
   "cell_type": "markdown",
   "metadata": {},
   "source": [
    "End of example you can now go test the results in the folder you have designed at the beginning of this tutorial\n",
    "\n",
    "## To go Further <a name=\"To go Further\"></a>\n",
    "***\n",
    "\n",
    "Links to additional information about the plugin:\n",
    "\n",
    "Publication in IEEE Transactions On Robotics: **https://hal.inria.fr/hal-01834483**\n",
    "\n",
    "Plugin website: **https://project.inria.fr/modelorderreduction/**\n",
    "\n",
    "Plugin doc : **https://modelorderreduction.readthedocs.io/en/latest/index.html**\n",
    "\n"
   ]
  },
  {
   "cell_type": "code",
   "execution_count": null,
   "metadata": {},
   "outputs": [],
   "source": []
  }
 ],
 "metadata": {
  "kernelspec": {
   "display_name": "Python 3",
   "language": "python",
   "name": "python3"
  },
  "language_info": {
   "codemirror_mode": {
    "name": "ipython",
    "version": 3
   },
   "file_extension": ".py",
   "mimetype": "text/x-python",
   "name": "python",
   "nbconvert_exporter": "python",
   "pygments_lexer": "ipython3",
   "version": "3.8.2"
  }
 },
 "nbformat": 4,
 "nbformat_minor": 2
}
